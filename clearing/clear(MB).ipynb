{
 "cells": [
  {
   "cell_type": "code",
   "execution_count": 79,
   "metadata": {},
   "outputs": [],
   "source": [
    "import pandas as pd\n",
    "import numpy as np"
   ]
  },
  {
   "cell_type": "code",
   "execution_count": 80,
   "metadata": {},
   "outputs": [
    {
     "data": {
      "text/html": [
       "<div>\n",
       "<style scoped>\n",
       "    .dataframe tbody tr th:only-of-type {\n",
       "        vertical-align: middle;\n",
       "    }\n",
       "\n",
       "    .dataframe tbody tr th {\n",
       "        vertical-align: top;\n",
       "    }\n",
       "\n",
       "    .dataframe thead th {\n",
       "        text-align: right;\n",
       "    }\n",
       "</style>\n",
       "<table border=\"1\" class=\"dataframe\">\n",
       "  <thead>\n",
       "    <tr style=\"text-align: right;\">\n",
       "      <th></th>\n",
       "      <th>Unnamed: 0</th>\n",
       "      <th>name</th>\n",
       "      <th>formFactor</th>\n",
       "      <th>socket</th>\n",
       "      <th>chipset</th>\n",
       "      <th>ramType</th>\n",
       "      <th>ramSlots</th>\n",
       "      <th>ramFreq</th>\n",
       "      <th>maxRam</th>\n",
       "      <th>powerPin</th>\n",
       "      <th>price</th>\n",
       "      <th>link</th>\n",
       "    </tr>\n",
       "  </thead>\n",
       "  <tbody>\n",
       "    <tr>\n",
       "      <th>0</th>\n",
       "      <td>0</td>\n",
       "      <td>MSI H510M-A PRO</td>\n",
       "      <td>mATX</td>\n",
       "      <td>LGA 1200</td>\n",
       "      <td>Intel H510</td>\n",
       "      <td>DDR4</td>\n",
       "      <td>2</td>\n",
       "      <td>3200</td>\n",
       "      <td>64</td>\n",
       "      <td>24+8</td>\n",
       "      <td>5490</td>\n",
       "      <td>https://www.citilink.ru/product/materinskaya-p...</td>\n",
       "    </tr>\n",
       "    <tr>\n",
       "      <th>1</th>\n",
       "      <td>1</td>\n",
       "      <td>GIGABYTE H410M H V2</td>\n",
       "      <td>mATX</td>\n",
       "      <td>LGA 1200</td>\n",
       "      <td>Intel H470</td>\n",
       "      <td>DDR4</td>\n",
       "      <td>2</td>\n",
       "      <td>2933</td>\n",
       "      <td>64</td>\n",
       "      <td>24+8</td>\n",
       "      <td>4990</td>\n",
       "      <td>https://www.citilink.ru/product/materinskaya-p...</td>\n",
       "    </tr>\n",
       "    <tr>\n",
       "      <th>2</th>\n",
       "      <td>2</td>\n",
       "      <td>ASUS PRIME H510M-K</td>\n",
       "      <td>mATX</td>\n",
       "      <td>LGA 1200</td>\n",
       "      <td>Intel H510</td>\n",
       "      <td>DDR4</td>\n",
       "      <td>2</td>\n",
       "      <td>2933</td>\n",
       "      <td>64</td>\n",
       "      <td>24+8</td>\n",
       "      <td>6190</td>\n",
       "      <td>https://www.citilink.ru/product/materinskaya-p...</td>\n",
       "    </tr>\n",
       "    <tr>\n",
       "      <th>3</th>\n",
       "      <td>3</td>\n",
       "      <td>GIGABYTE H510M H</td>\n",
       "      <td>mATX</td>\n",
       "      <td>LGA 1200</td>\n",
       "      <td>Intel H510</td>\n",
       "      <td>DDR4</td>\n",
       "      <td>2</td>\n",
       "      <td>3200</td>\n",
       "      <td>64</td>\n",
       "      <td>24+8</td>\n",
       "      <td>5590</td>\n",
       "      <td>https://www.citilink.ru/product/materinskaya-p...</td>\n",
       "    </tr>\n",
       "    <tr>\n",
       "      <th>4</th>\n",
       "      <td>4</td>\n",
       "      <td>ASROCK H510M-HVS R2.0</td>\n",
       "      <td>mATX</td>\n",
       "      <td>LGA 1200</td>\n",
       "      <td>Intel H510</td>\n",
       "      <td>DDR4</td>\n",
       "      <td>2</td>\n",
       "      <td>3200</td>\n",
       "      <td>64</td>\n",
       "      <td>24+8</td>\n",
       "      <td>5290</td>\n",
       "      <td>https://www.citilink.ru/product/materinskaya-p...</td>\n",
       "    </tr>\n",
       "    <tr>\n",
       "      <th>...</th>\n",
       "      <td>...</td>\n",
       "      <td>...</td>\n",
       "      <td>...</td>\n",
       "      <td>...</td>\n",
       "      <td>...</td>\n",
       "      <td>...</td>\n",
       "      <td>...</td>\n",
       "      <td>...</td>\n",
       "      <td>...</td>\n",
       "      <td>...</td>\n",
       "      <td>...</td>\n",
       "      <td>...</td>\n",
       "    </tr>\n",
       "    <tr>\n",
       "      <th>276</th>\n",
       "      <td>276</td>\n",
       "      <td>ASUS ROG STRIX B660-A GAMING WIFI</td>\n",
       "      <td>ATX</td>\n",
       "      <td>LGA 1700</td>\n",
       "      <td>Intel B660</td>\n",
       "      <td>DDR5</td>\n",
       "      <td>4</td>\n",
       "      <td>4800</td>\n",
       "      <td>128</td>\n",
       "      <td>24+8+4</td>\n",
       "      <td>19790</td>\n",
       "      <td>https://www.citilink.ru/product/materinskaya-p...</td>\n",
       "    </tr>\n",
       "    <tr>\n",
       "      <th>277</th>\n",
       "      <td>277</td>\n",
       "      <td>ASUS ROG STRIX B660-G GAMING WIFI</td>\n",
       "      <td>mATX</td>\n",
       "      <td>LGA 1700</td>\n",
       "      <td>Intel B660</td>\n",
       "      <td>DDR5</td>\n",
       "      <td>4</td>\n",
       "      <td>4800</td>\n",
       "      <td>128</td>\n",
       "      <td>24+8</td>\n",
       "      <td>23380</td>\n",
       "      <td>https://www.citilink.ru/product/materinskaya-p...</td>\n",
       "    </tr>\n",
       "    <tr>\n",
       "      <th>278</th>\n",
       "      <td>278</td>\n",
       "      <td>ASROCK Z690 PRO RS</td>\n",
       "      <td>ATX</td>\n",
       "      <td>LGA 1700</td>\n",
       "      <td>Intel Z690</td>\n",
       "      <td>DDR4</td>\n",
       "      <td>4</td>\n",
       "      <td>3200</td>\n",
       "      <td>128</td>\n",
       "      <td>24+8+4</td>\n",
       "      <td>15990</td>\n",
       "      <td>https://www.citilink.ru/product/materinskaya-p...</td>\n",
       "    </tr>\n",
       "    <tr>\n",
       "      <th>279</th>\n",
       "      <td>279</td>\n",
       "      <td>ASUS PRO Q570M-C/CSM</td>\n",
       "      <td>mATX</td>\n",
       "      <td>LGA 1200</td>\n",
       "      <td>Intel Q570</td>\n",
       "      <td>DDR4</td>\n",
       "      <td>4</td>\n",
       "      <td>2933</td>\n",
       "      <td>128</td>\n",
       "      <td>24+8</td>\n",
       "      <td>15990</td>\n",
       "      <td>https://www.citilink.ru/product/materinskaya-p...</td>\n",
       "    </tr>\n",
       "    <tr>\n",
       "      <th>280</th>\n",
       "      <td>280</td>\n",
       "      <td>GIGABYTE B560M AORUS PRO</td>\n",
       "      <td>mATX</td>\n",
       "      <td>LGA 1200</td>\n",
       "      <td>Intel B560</td>\n",
       "      <td>DDR4</td>\n",
       "      <td>4</td>\n",
       "      <td>3200</td>\n",
       "      <td>128</td>\n",
       "      <td>24+8</td>\n",
       "      <td>13190</td>\n",
       "      <td>https://www.citilink.ru/product/materinskaya-p...</td>\n",
       "    </tr>\n",
       "  </tbody>\n",
       "</table>\n",
       "<p>281 rows × 12 columns</p>\n",
       "</div>"
      ],
      "text/plain": [
       "     Unnamed: 0                               name formFactor    socket   \n",
       "0             0                    MSI H510M-A PRO       mATX  LGA 1200  \\\n",
       "1             1                GIGABYTE H410M H V2       mATX  LGA 1200   \n",
       "2             2                 ASUS PRIME H510M-K       mATX  LGA 1200   \n",
       "3             3                   GIGABYTE H510M H       mATX  LGA 1200   \n",
       "4             4              ASROCK H510M-HVS R2.0       mATX  LGA 1200   \n",
       "..          ...                                ...        ...       ...   \n",
       "276         276  ASUS ROG STRIX B660-A GAMING WIFI        ATX  LGA 1700   \n",
       "277         277  ASUS ROG STRIX B660-G GAMING WIFI       mATX  LGA 1700   \n",
       "278         278                 ASROCK Z690 PRO RS        ATX  LGA 1700   \n",
       "279         279               ASUS PRO Q570M-C/CSM       mATX  LGA 1200   \n",
       "280         280           GIGABYTE B560M AORUS PRO       mATX  LGA 1200   \n",
       "\n",
       "        chipset ramType  ramSlots ramFreq maxRam powerPin  price   \n",
       "0    Intel H510   DDR4          2    3200     64    24+8    5490  \\\n",
       "1    Intel H470   DDR4          2    2933     64    24+8    4990   \n",
       "2    Intel H510   DDR4          2    2933     64    24+8    6190   \n",
       "3    Intel H510   DDR4          2    3200     64    24+8    5590   \n",
       "4    Intel H510   DDR4          2    3200     64    24+8    5290   \n",
       "..          ...     ...       ...     ...    ...      ...    ...   \n",
       "276  Intel B660   DDR5          4    4800    128  24+8+4   19790   \n",
       "277  Intel B660   DDR5          4    4800    128    24+8   23380   \n",
       "278  Intel Z690   DDR4          4    3200    128  24+8+4   15990   \n",
       "279  Intel Q570   DDR4          4    2933    128    24+8   15990   \n",
       "280  Intel B560   DDR4          4    3200    128    24+8   13190   \n",
       "\n",
       "                                                  link  \n",
       "0    https://www.citilink.ru/product/materinskaya-p...  \n",
       "1    https://www.citilink.ru/product/materinskaya-p...  \n",
       "2    https://www.citilink.ru/product/materinskaya-p...  \n",
       "3    https://www.citilink.ru/product/materinskaya-p...  \n",
       "4    https://www.citilink.ru/product/materinskaya-p...  \n",
       "..                                                 ...  \n",
       "276  https://www.citilink.ru/product/materinskaya-p...  \n",
       "277  https://www.citilink.ru/product/materinskaya-p...  \n",
       "278  https://www.citilink.ru/product/materinskaya-p...  \n",
       "279  https://www.citilink.ru/product/materinskaya-p...  \n",
       "280  https://www.citilink.ru/product/materinskaya-p...  \n",
       "\n",
       "[281 rows x 12 columns]"
      ]
     },
     "execution_count": 80,
     "metadata": {},
     "output_type": "execute_result"
    }
   ],
   "source": [
    "df_MB = pd.read_csv('data/MB.csv')\n",
    "df_MB"
   ]
  },
  {
   "cell_type": "code",
<<<<<<< HEAD
   "execution_count": 3,
=======
   "execution_count": 81,
   "metadata": {},
   "outputs": [],
   "source": [
    "import regex as re"
   ]
  },
  {
   "cell_type": "code",
   "execution_count": 82,
>>>>>>> 8a84c924fcd8e1d92a5d4e4ebe97217ff34c6280
   "metadata": {},
   "outputs": [
    {
     "data": {
      "text/plain": [
       "(281, 12)"
      ]
     },
<<<<<<< HEAD
     "execution_count": 3,
=======
     "execution_count": 82,
>>>>>>> 8a84c924fcd8e1d92a5d4e4ebe97217ff34c6280
     "metadata": {},
     "output_type": "execute_result"
    }
   ],
   "source": [
    "df_MB = df_MB[df_MB['socket'] != '?']\n",
    "df_MB.shape"
   ]
  },
  {
   "cell_type": "code",
<<<<<<< HEAD
   "execution_count": 4,
=======
   "execution_count": 83,
>>>>>>> 8a84c924fcd8e1d92a5d4e4ebe97217ff34c6280
   "metadata": {},
   "outputs": [
    {
     "data": {
      "text/plain": [
       "(281, 12)"
      ]
     },
<<<<<<< HEAD
     "execution_count": 4,
=======
     "execution_count": 83,
>>>>>>> 8a84c924fcd8e1d92a5d4e4ebe97217ff34c6280
     "metadata": {},
     "output_type": "execute_result"
    }
   ],
   "source": [
    "df_MB = df_MB[~np.isnan(df_MB['price'])]\n",
    "df_MB.shape"
   ]
  },
  {
   "cell_type": "code",
<<<<<<< HEAD
   "execution_count": 5,
   "metadata": {},
   "outputs": [],
   "source": [
    "import regex as re"
   ]
  },
  {
   "cell_type": "code",
   "execution_count": 6,
=======
   "execution_count": 84,
>>>>>>> 8a84c924fcd8e1d92a5d4e4ebe97217ff34c6280
   "metadata": {},
   "outputs": [],
   "source": [
    "for socket in range(len(df_MB['socket'].values)):\n",
    "    reg = re.match(r\"Socket\", df_MB['socket'].values[socket])\n",
    "    if reg:\n",
    "        df_MB['socket'].values[socket] = df_MB['socket'].values[socket][reg.end():]"
   ]
  },
  {
   "cell_type": "code",
<<<<<<< HEAD
   "execution_count": 7,
=======
   "execution_count": 85,
>>>>>>> 8a84c924fcd8e1d92a5d4e4ebe97217ff34c6280
   "metadata": {},
   "outputs": [
    {
     "data": {
      "text/plain": [
       "array(['LGA 1200', 'LGA 1700', 'AM4', 'AM5', 'LGA 2066', 'LGA 1151v2'],\n",
       "      dtype=object)"
      ]
     },
<<<<<<< HEAD
     "execution_count": 7,
=======
     "execution_count": 85,
>>>>>>> 8a84c924fcd8e1d92a5d4e4ebe97217ff34c6280
     "metadata": {},
     "output_type": "execute_result"
    }
   ],
   "source": [
    "df_MB['socket'].unique()"
   ]
  },
  {
   "cell_type": "code",
<<<<<<< HEAD
   "execution_count": 9,
=======
   "execution_count": 86,
   "metadata": {},
   "outputs": [],
   "source": [
    "for name in range(len(df_MB['name'].values)):\n",
    "    reg = re.match(r\"Материнская плата \", df_MB['name'].values[socket])\n",
    "    if reg:\n",
    "        df_MB['name'].values[name] = df_MB['name'].values[name][reg.end():]"
   ]
  },
  {
   "cell_type": "code",
   "execution_count": 87,
   "metadata": {},
   "outputs": [],
   "source": [
    "delCol = []\n",
    "for column in df_MB.columns:\n",
    "    if re.match(r\"Unnamed\", column):\n",
    "        delCol.append(column)\n",
    "df_MB = df_MB.drop(columns=delCol)"
   ]
  },
  {
   "cell_type": "code",
   "execution_count": 88,
>>>>>>> 8a84c924fcd8e1d92a5d4e4ebe97217ff34c6280
   "metadata": {},
   "outputs": [
    {
     "data": {
      "text/html": [
       "<div>\n",
       "<style scoped>\n",
       "    .dataframe tbody tr th:only-of-type {\n",
       "        vertical-align: middle;\n",
       "    }\n",
       "\n",
       "    .dataframe tbody tr th {\n",
       "        vertical-align: top;\n",
       "    }\n",
       "\n",
       "    .dataframe thead th {\n",
       "        text-align: right;\n",
       "    }\n",
       "</style>\n",
       "<table border=\"1\" class=\"dataframe\">\n",
       "  <thead>\n",
       "    <tr style=\"text-align: right;\">\n",
       "      <th></th>\n",
<<<<<<< HEAD
       "      <th>Unnamed: 0</th>\n",
=======
>>>>>>> 8a84c924fcd8e1d92a5d4e4ebe97217ff34c6280
       "      <th>name</th>\n",
       "      <th>formFactor</th>\n",
       "      <th>socket</th>\n",
       "      <th>chipset</th>\n",
       "      <th>ramType</th>\n",
       "      <th>ramSlots</th>\n",
       "      <th>ramFreq</th>\n",
       "      <th>maxRam</th>\n",
       "      <th>powerPin</th>\n",
       "      <th>price</th>\n",
       "      <th>link</th>\n",
       "    </tr>\n",
       "  </thead>\n",
       "  <tbody>\n",
       "    <tr>\n",
       "      <th>0</th>\n",
<<<<<<< HEAD
       "      <td>0</td>\n",
       "      <td>Материнская плата MSI H510M-A PRO</td>\n",
=======
       "      <td>MSI H510M-A PRO</td>\n",
>>>>>>> 8a84c924fcd8e1d92a5d4e4ebe97217ff34c6280
       "      <td>mATX</td>\n",
       "      <td>LGA 1200</td>\n",
       "      <td>Intel H510</td>\n",
       "      <td>DDR4</td>\n",
       "      <td>2</td>\n",
       "      <td>3200</td>\n",
       "      <td>64</td>\n",
       "      <td>24+8</td>\n",
       "      <td>5490</td>\n",
       "      <td>https://www.citilink.ru/product/materinskaya-p...</td>\n",
       "    </tr>\n",
       "    <tr>\n",
       "      <th>1</th>\n",
<<<<<<< HEAD
       "      <td>1</td>\n",
       "      <td>Материнская плата GIGABYTE H410M H V2</td>\n",
=======
       "      <td>GIGABYTE H410M H V2</td>\n",
>>>>>>> 8a84c924fcd8e1d92a5d4e4ebe97217ff34c6280
       "      <td>mATX</td>\n",
       "      <td>LGA 1200</td>\n",
       "      <td>Intel H470</td>\n",
       "      <td>DDR4</td>\n",
       "      <td>2</td>\n",
       "      <td>2933</td>\n",
       "      <td>64</td>\n",
       "      <td>24+8</td>\n",
       "      <td>4990</td>\n",
       "      <td>https://www.citilink.ru/product/materinskaya-p...</td>\n",
       "    </tr>\n",
       "    <tr>\n",
       "      <th>2</th>\n",
<<<<<<< HEAD
       "      <td>2</td>\n",
       "      <td>Материнская плата ASUS PRIME H510M-K</td>\n",
=======
       "      <td>ASUS PRIME H510M-K</td>\n",
>>>>>>> 8a84c924fcd8e1d92a5d4e4ebe97217ff34c6280
       "      <td>mATX</td>\n",
       "      <td>LGA 1200</td>\n",
       "      <td>Intel H510</td>\n",
       "      <td>DDR4</td>\n",
       "      <td>2</td>\n",
       "      <td>2933</td>\n",
       "      <td>64</td>\n",
       "      <td>24+8</td>\n",
       "      <td>6190</td>\n",
       "      <td>https://www.citilink.ru/product/materinskaya-p...</td>\n",
       "    </tr>\n",
       "    <tr>\n",
       "      <th>3</th>\n",
<<<<<<< HEAD
       "      <td>3</td>\n",
       "      <td>Материнская плата GIGABYTE H510M H</td>\n",
=======
       "      <td>GIGABYTE H510M H</td>\n",
>>>>>>> 8a84c924fcd8e1d92a5d4e4ebe97217ff34c6280
       "      <td>mATX</td>\n",
       "      <td>LGA 1200</td>\n",
       "      <td>Intel H510</td>\n",
       "      <td>DDR4</td>\n",
       "      <td>2</td>\n",
       "      <td>3200</td>\n",
       "      <td>64</td>\n",
       "      <td>24+8</td>\n",
       "      <td>5590</td>\n",
       "      <td>https://www.citilink.ru/product/materinskaya-p...</td>\n",
       "    </tr>\n",
       "    <tr>\n",
       "      <th>4</th>\n",
<<<<<<< HEAD
       "      <td>4</td>\n",
       "      <td>Материнская плата ASROCK H510M-HVS R2.0</td>\n",
=======
       "      <td>ASROCK H510M-HVS R2.0</td>\n",
>>>>>>> 8a84c924fcd8e1d92a5d4e4ebe97217ff34c6280
       "      <td>mATX</td>\n",
       "      <td>LGA 1200</td>\n",
       "      <td>Intel H510</td>\n",
       "      <td>DDR4</td>\n",
       "      <td>2</td>\n",
       "      <td>3200</td>\n",
       "      <td>64</td>\n",
       "      <td>24+8</td>\n",
       "      <td>5290</td>\n",
       "      <td>https://www.citilink.ru/product/materinskaya-p...</td>\n",
       "    </tr>\n",
       "    <tr>\n",
       "      <th>5</th>\n",
<<<<<<< HEAD
       "      <td>5</td>\n",
       "      <td>Материнская плата MSI PRO H610M-E DDR4</td>\n",
=======
       "      <td>MSI PRO H610M-E DDR4</td>\n",
>>>>>>> 8a84c924fcd8e1d92a5d4e4ebe97217ff34c6280
       "      <td>mATX</td>\n",
       "      <td>LGA 1700</td>\n",
       "      <td>Intel H610</td>\n",
       "      <td>DDR4</td>\n",
       "      <td>2</td>\n",
       "      <td>3200</td>\n",
       "      <td>64</td>\n",
       "      <td>24+8</td>\n",
       "      <td>6190</td>\n",
       "      <td>https://www.citilink.ru/product/materinskaya-p...</td>\n",
       "    </tr>\n",
       "    <tr>\n",
       "      <th>6</th>\n",
<<<<<<< HEAD
       "      <td>6</td>\n",
       "      <td>Материнская плата GIGABYTE B550M DS3H</td>\n",
=======
       "      <td>GIGABYTE B550M DS3H</td>\n",
>>>>>>> 8a84c924fcd8e1d92a5d4e4ebe97217ff34c6280
       "      <td>mATX</td>\n",
       "      <td>AM4</td>\n",
       "      <td>AMD B550</td>\n",
       "      <td>DDR4</td>\n",
       "      <td>4</td>\n",
       "      <td>3200</td>\n",
       "      <td>128</td>\n",
       "      <td>24+8</td>\n",
       "      <td>8990</td>\n",
       "      <td>https://www.citilink.ru/product/materinskaya-p...</td>\n",
       "    </tr>\n",
       "    <tr>\n",
       "      <th>7</th>\n",
<<<<<<< HEAD
       "      <td>7</td>\n",
       "      <td>Материнская плата GIGABYTE B550 GAMING X V2</td>\n",
=======
       "      <td>GIGABYTE B550 GAMING X V2</td>\n",
>>>>>>> 8a84c924fcd8e1d92a5d4e4ebe97217ff34c6280
       "      <td>ATX</td>\n",
       "      <td>AM4</td>\n",
       "      <td>AMD B550</td>\n",
       "      <td>DDR4</td>\n",
       "      <td>4</td>\n",
       "      <td>3200</td>\n",
       "      <td>128</td>\n",
       "      <td>24+8</td>\n",
       "      <td>10490</td>\n",
       "      <td>https://www.citilink.ru/product/materinskaya-p...</td>\n",
       "    </tr>\n",
       "    <tr>\n",
       "      <th>8</th>\n",
<<<<<<< HEAD
       "      <td>8</td>\n",
       "      <td>Материнская плата GIGABYTE H610M S2H DDR4</td>\n",
=======
       "      <td>GIGABYTE H610M S2H DDR4</td>\n",
>>>>>>> 8a84c924fcd8e1d92a5d4e4ebe97217ff34c6280
       "      <td>mATX</td>\n",
       "      <td>LGA 1700</td>\n",
       "      <td>Intel H610</td>\n",
       "      <td>DDR4</td>\n",
       "      <td>2</td>\n",
       "      <td>3200</td>\n",
       "      <td>64</td>\n",
       "      <td>24+8</td>\n",
       "      <td>7090</td>\n",
       "      <td>https://www.citilink.ru/product/materinskaya-p...</td>\n",
       "    </tr>\n",
       "    <tr>\n",
       "      <th>9</th>\n",
<<<<<<< HEAD
       "      <td>9</td>\n",
       "      <td>Материнская плата MSI H510M PRO-E</td>\n",
=======
       "      <td>MSI H510M PRO-E</td>\n",
>>>>>>> 8a84c924fcd8e1d92a5d4e4ebe97217ff34c6280
       "      <td>mATX</td>\n",
       "      <td>LGA 1200</td>\n",
       "      <td>Intel H510</td>\n",
       "      <td>DDR4</td>\n",
       "      <td>2</td>\n",
       "      <td>3200</td>\n",
       "      <td>64</td>\n",
       "      <td>24+8</td>\n",
       "      <td>7350</td>\n",
       "      <td>https://www.citilink.ru/product/materinskaya-p...</td>\n",
       "    </tr>\n",
       "    <tr>\n",
       "      <th>10</th>\n",
<<<<<<< HEAD
       "      <td>10</td>\n",
       "      <td>Материнская плата ASROCK H510M-HDV R2.0</td>\n",
=======
       "      <td>ASROCK H510M-HDV R2.0</td>\n",
>>>>>>> 8a84c924fcd8e1d92a5d4e4ebe97217ff34c6280
       "      <td>mATX</td>\n",
       "      <td>LGA 1200</td>\n",
       "      <td>Intel H510</td>\n",
       "      <td>DDR4</td>\n",
       "      <td>2</td>\n",
       "      <td>3200</td>\n",
       "      <td>64</td>\n",
       "      <td>24+8</td>\n",
       "      <td>5490</td>\n",
       "      <td>https://www.citilink.ru/product/materinskaya-p...</td>\n",
       "    </tr>\n",
       "    <tr>\n",
       "      <th>11</th>\n",
<<<<<<< HEAD
       "      <td>11</td>\n",
       "      <td>Материнская плата GIGABYTE A520M H</td>\n",
=======
       "      <td>GIGABYTE A520M H</td>\n",
>>>>>>> 8a84c924fcd8e1d92a5d4e4ebe97217ff34c6280
       "      <td>mATX</td>\n",
       "      <td>AM4</td>\n",
       "      <td>AMD A520</td>\n",
       "      <td>DDR4</td>\n",
       "      <td>2</td>\n",
       "      <td>3200</td>\n",
       "      <td>32</td>\n",
       "      <td>24+8</td>\n",
       "      <td>5890</td>\n",
       "      <td>https://www.citilink.ru/product/materinskaya-p...</td>\n",
       "    </tr>\n",
       "    <tr>\n",
       "      <th>12</th>\n",
<<<<<<< HEAD
       "      <td>12</td>\n",
       "      <td>Материнская плата ASUS PRIME B660M-K D4</td>\n",
=======
       "      <td>ASUS PRIME B660M-K D4</td>\n",
>>>>>>> 8a84c924fcd8e1d92a5d4e4ebe97217ff34c6280
       "      <td>mATX</td>\n",
       "      <td>LGA 1700</td>\n",
       "      <td>Intel B660</td>\n",
       "      <td>DDR4</td>\n",
       "      <td>2</td>\n",
       "      <td>3200</td>\n",
       "      <td>64</td>\n",
       "      <td>24+8</td>\n",
       "      <td>9390</td>\n",
       "      <td>https://www.citilink.ru/product/materinskaya-p...</td>\n",
       "    </tr>\n",
       "    <tr>\n",
       "      <th>13</th>\n",
<<<<<<< HEAD
       "      <td>13</td>\n",
       "      <td>Материнская плата GIGABYTE B550M AORUS ELITE</td>\n",
=======
       "      <td>GIGABYTE B550M AORUS ELITE</td>\n",
>>>>>>> 8a84c924fcd8e1d92a5d4e4ebe97217ff34c6280
       "      <td>mATX</td>\n",
       "      <td>AM4</td>\n",
       "      <td>AMD B550</td>\n",
       "      <td>DDR4</td>\n",
       "      <td>4</td>\n",
       "      <td>3200</td>\n",
       "      <td>128</td>\n",
       "      <td>24+8</td>\n",
       "      <td>9890</td>\n",
       "      <td>https://www.citilink.ru/product/materinskaya-p...</td>\n",
       "    </tr>\n",
       "    <tr>\n",
       "      <th>14</th>\n",
<<<<<<< HEAD
       "      <td>14</td>\n",
       "      <td>Материнская плата GIGABYTE B550 AORUS ELITE V2</td>\n",
=======
       "      <td>GIGABYTE B550 AORUS ELITE V2</td>\n",
>>>>>>> 8a84c924fcd8e1d92a5d4e4ebe97217ff34c6280
       "      <td>ATX</td>\n",
       "      <td>AM4</td>\n",
       "      <td>AMD B550</td>\n",
       "      <td>DDR4</td>\n",
       "      <td>4</td>\n",
       "      <td>3200</td>\n",
       "      <td>128</td>\n",
       "      <td>24+8</td>\n",
       "      <td>12490</td>\n",
       "      <td>https://www.citilink.ru/product/materinskaya-p...</td>\n",
       "    </tr>\n",
       "    <tr>\n",
       "      <th>15</th>\n",
<<<<<<< HEAD
       "      <td>15</td>\n",
       "      <td>Материнская плата GIGABYTE B560M DS3H V2</td>\n",
=======
       "      <td>GIGABYTE B560M DS3H V2</td>\n",
>>>>>>> 8a84c924fcd8e1d92a5d4e4ebe97217ff34c6280
       "      <td>mATX</td>\n",
       "      <td>LGA 1200</td>\n",
       "      <td>Intel B560</td>\n",
       "      <td>DDR4</td>\n",
       "      <td>4</td>\n",
       "      <td>3200</td>\n",
       "      <td>128</td>\n",
       "      <td>24+8</td>\n",
       "      <td>7890</td>\n",
       "      <td>https://www.citilink.ru/product/materinskaya-p...</td>\n",
       "    </tr>\n",
       "    <tr>\n",
       "      <th>16</th>\n",
<<<<<<< HEAD
       "      <td>16</td>\n",
       "      <td>Материнская плата GIGABYTE H410M S2H V2</td>\n",
=======
       "      <td>GIGABYTE H410M S2H V2</td>\n",
>>>>>>> 8a84c924fcd8e1d92a5d4e4ebe97217ff34c6280
       "      <td>mATX</td>\n",
       "      <td>LGA 1200</td>\n",
       "      <td>Intel H470</td>\n",
       "      <td>DDR4</td>\n",
       "      <td>2</td>\n",
       "      <td>2933</td>\n",
       "      <td>64</td>\n",
       "      <td>24+8</td>\n",
       "      <td>4990</td>\n",
       "      <td>https://www.citilink.ru/product/materinskaya-p...</td>\n",
       "    </tr>\n",
       "    <tr>\n",
       "      <th>17</th>\n",
<<<<<<< HEAD
       "      <td>17</td>\n",
       "      <td>Материнская плата ASROCK B660M-HDV</td>\n",
=======
       "      <td>ASROCK B660M-HDV</td>\n",
>>>>>>> 8a84c924fcd8e1d92a5d4e4ebe97217ff34c6280
       "      <td>mATX</td>\n",
       "      <td>LGA 1700</td>\n",
       "      <td>Intel B660</td>\n",
       "      <td>DDR4</td>\n",
       "      <td>2</td>\n",
       "      <td>3200</td>\n",
       "      <td>64</td>\n",
       "      <td>24+8</td>\n",
       "      <td>7790</td>\n",
       "      <td>https://www.citilink.ru/product/materinskaya-p...</td>\n",
       "    </tr>\n",
       "    <tr>\n",
       "      <th>18</th>\n",
<<<<<<< HEAD
       "      <td>18</td>\n",
       "      <td>Материнская плата ASUS PRIME B660-PLUS D4</td>\n",
=======
       "      <td>ASUS PRIME B660-PLUS D4</td>\n",
>>>>>>> 8a84c924fcd8e1d92a5d4e4ebe97217ff34c6280
       "      <td>ATX</td>\n",
       "      <td>LGA 1700</td>\n",
       "      <td>Intel B660</td>\n",
       "      <td>DDR4</td>\n",
       "      <td>4</td>\n",
       "      <td>3200</td>\n",
       "      <td>128</td>\n",
       "      <td>24+8</td>\n",
       "      <td>12990</td>\n",
       "      <td>https://www.citilink.ru/product/materinskaya-p...</td>\n",
       "    </tr>\n",
       "    <tr>\n",
       "      <th>19</th>\n",
<<<<<<< HEAD
       "      <td>19</td>\n",
       "      <td>Материнская плата MSI PRO B660M-E DDR4</td>\n",
=======
       "      <td>MSI PRO B660M-E DDR4</td>\n",
>>>>>>> 8a84c924fcd8e1d92a5d4e4ebe97217ff34c6280
       "      <td>mATX</td>\n",
       "      <td>LGA 1700</td>\n",
       "      <td>Intel B660</td>\n",
       "      <td>DDR4</td>\n",
       "      <td>2</td>\n",
       "      <td>3200</td>\n",
       "      <td>64</td>\n",
       "      <td>24+8</td>\n",
       "      <td>8900</td>\n",
       "      <td>https://www.citilink.ru/product/materinskaya-p...</td>\n",
       "    </tr>\n",
       "  </tbody>\n",
       "</table>\n",
       "</div>"
      ],
      "text/plain": [
<<<<<<< HEAD
       "    Unnamed: 0                                            name formFactor  \\\n",
       "0            0               Материнская плата MSI H510M-A PRO       mATX   \n",
       "1            1           Материнская плата GIGABYTE H410M H V2       mATX   \n",
       "2            2            Материнская плата ASUS PRIME H510M-K       mATX   \n",
       "3            3              Материнская плата GIGABYTE H510M H       mATX   \n",
       "4            4         Материнская плата ASROCK H510M-HVS R2.0       mATX   \n",
       "5            5          Материнская плата MSI PRO H610M-E DDR4       mATX   \n",
       "6            6           Материнская плата GIGABYTE B550M DS3H       mATX   \n",
       "7            7     Материнская плата GIGABYTE B550 GAMING X V2        ATX   \n",
       "8            8       Материнская плата GIGABYTE H610M S2H DDR4       mATX   \n",
       "9            9               Материнская плата MSI H510M PRO-E       mATX   \n",
       "10          10         Материнская плата ASROCK H510M-HDV R2.0       mATX   \n",
       "11          11              Материнская плата GIGABYTE A520M H       mATX   \n",
       "12          12         Материнская плата ASUS PRIME B660M-K D4       mATX   \n",
       "13          13    Материнская плата GIGABYTE B550M AORUS ELITE       mATX   \n",
       "14          14  Материнская плата GIGABYTE B550 AORUS ELITE V2        ATX   \n",
       "15          15        Материнская плата GIGABYTE B560M DS3H V2       mATX   \n",
       "16          16         Материнская плата GIGABYTE H410M S2H V2       mATX   \n",
       "17          17              Материнская плата ASROCK B660M-HDV       mATX   \n",
       "18          18       Материнская плата ASUS PRIME B660-PLUS D4        ATX   \n",
       "19          19          Материнская плата MSI PRO B660M-E DDR4       mATX   \n",
       "\n",
       "      socket     chipset ramType  ramSlots ramFreq maxRam powerPin  price  \\\n",
       "0   LGA 1200  Intel H510   DDR4          2    3200     64    24+8    5490   \n",
       "1   LGA 1200  Intel H470   DDR4          2    2933     64    24+8    4990   \n",
       "2   LGA 1200  Intel H510   DDR4          2    2933     64    24+8    6190   \n",
       "3   LGA 1200  Intel H510   DDR4          2    3200     64    24+8    5590   \n",
       "4   LGA 1200  Intel H510   DDR4          2    3200     64    24+8    5290   \n",
       "5   LGA 1700  Intel H610   DDR4          2    3200     64    24+8    6190   \n",
       "6        AM4    AMD B550   DDR4          4    3200    128    24+8    8990   \n",
       "7        AM4    AMD B550   DDR4          4    3200    128    24+8   10490   \n",
       "8   LGA 1700  Intel H610   DDR4          2    3200     64    24+8    7090   \n",
       "9   LGA 1200  Intel H510   DDR4          2    3200     64    24+8    7350   \n",
       "10  LGA 1200  Intel H510   DDR4          2    3200     64    24+8    5490   \n",
       "11       AM4    AMD A520   DDR4          2    3200     32    24+8    5890   \n",
       "12  LGA 1700  Intel B660   DDR4          2    3200     64    24+8    9390   \n",
       "13       AM4    AMD B550   DDR4          4    3200    128    24+8    9890   \n",
       "14       AM4    AMD B550   DDR4          4    3200    128    24+8   12490   \n",
       "15  LGA 1200  Intel B560   DDR4          4    3200    128    24+8    7890   \n",
       "16  LGA 1200  Intel H470   DDR4          2    2933     64    24+8    4990   \n",
       "17  LGA 1700  Intel B660   DDR4          2    3200     64    24+8    7790   \n",
       "18  LGA 1700  Intel B660   DDR4          4    3200    128    24+8   12990   \n",
       "19  LGA 1700  Intel B660   DDR4          2    3200     64    24+8    8900   \n",
=======
       "                            name formFactor    socket     chipset ramType   \n",
       "0                MSI H510M-A PRO       mATX  LGA 1200  Intel H510   DDR4   \\\n",
       "1            GIGABYTE H410M H V2       mATX  LGA 1200  Intel H470   DDR4    \n",
       "2             ASUS PRIME H510M-K       mATX  LGA 1200  Intel H510   DDR4    \n",
       "3               GIGABYTE H510M H       mATX  LGA 1200  Intel H510   DDR4    \n",
       "4          ASROCK H510M-HVS R2.0       mATX  LGA 1200  Intel H510   DDR4    \n",
       "5           MSI PRO H610M-E DDR4       mATX  LGA 1700  Intel H610   DDR4    \n",
       "6            GIGABYTE B550M DS3H       mATX       AM4    AMD B550   DDR4    \n",
       "7      GIGABYTE B550 GAMING X V2        ATX       AM4    AMD B550   DDR4    \n",
       "8        GIGABYTE H610M S2H DDR4       mATX  LGA 1700  Intel H610   DDR4    \n",
       "9                MSI H510M PRO-E       mATX  LGA 1200  Intel H510   DDR4    \n",
       "10         ASROCK H510M-HDV R2.0       mATX  LGA 1200  Intel H510   DDR4    \n",
       "11              GIGABYTE A520M H       mATX       AM4    AMD A520   DDR4    \n",
       "12         ASUS PRIME B660M-K D4       mATX  LGA 1700  Intel B660   DDR4    \n",
       "13    GIGABYTE B550M AORUS ELITE       mATX       AM4    AMD B550   DDR4    \n",
       "14  GIGABYTE B550 AORUS ELITE V2        ATX       AM4    AMD B550   DDR4    \n",
       "15        GIGABYTE B560M DS3H V2       mATX  LGA 1200  Intel B560   DDR4    \n",
       "16         GIGABYTE H410M S2H V2       mATX  LGA 1200  Intel H470   DDR4    \n",
       "17              ASROCK B660M-HDV       mATX  LGA 1700  Intel B660   DDR4    \n",
       "18       ASUS PRIME B660-PLUS D4        ATX  LGA 1700  Intel B660   DDR4    \n",
       "19          MSI PRO B660M-E DDR4       mATX  LGA 1700  Intel B660   DDR4    \n",
       "\n",
       "    ramSlots ramFreq maxRam powerPin  price   \n",
       "0          2    3200     64    24+8    5490  \\\n",
       "1          2    2933     64    24+8    4990   \n",
       "2          2    2933     64    24+8    6190   \n",
       "3          2    3200     64    24+8    5590   \n",
       "4          2    3200     64    24+8    5290   \n",
       "5          2    3200     64    24+8    6190   \n",
       "6          4    3200    128    24+8    8990   \n",
       "7          4    3200    128    24+8   10490   \n",
       "8          2    3200     64    24+8    7090   \n",
       "9          2    3200     64    24+8    7350   \n",
       "10         2    3200     64    24+8    5490   \n",
       "11         2    3200     32    24+8    5890   \n",
       "12         2    3200     64    24+8    9390   \n",
       "13         4    3200    128    24+8    9890   \n",
       "14         4    3200    128    24+8   12490   \n",
       "15         4    3200    128    24+8    7890   \n",
       "16         2    2933     64    24+8    4990   \n",
       "17         2    3200     64    24+8    7790   \n",
       "18         4    3200    128    24+8   12990   \n",
       "19         2    3200     64    24+8    8900   \n",
>>>>>>> 8a84c924fcd8e1d92a5d4e4ebe97217ff34c6280
       "\n",
       "                                                 link  \n",
       "0   https://www.citilink.ru/product/materinskaya-p...  \n",
       "1   https://www.citilink.ru/product/materinskaya-p...  \n",
       "2   https://www.citilink.ru/product/materinskaya-p...  \n",
       "3   https://www.citilink.ru/product/materinskaya-p...  \n",
       "4   https://www.citilink.ru/product/materinskaya-p...  \n",
       "5   https://www.citilink.ru/product/materinskaya-p...  \n",
       "6   https://www.citilink.ru/product/materinskaya-p...  \n",
       "7   https://www.citilink.ru/product/materinskaya-p...  \n",
       "8   https://www.citilink.ru/product/materinskaya-p...  \n",
       "9   https://www.citilink.ru/product/materinskaya-p...  \n",
       "10  https://www.citilink.ru/product/materinskaya-p...  \n",
       "11  https://www.citilink.ru/product/materinskaya-p...  \n",
       "12  https://www.citilink.ru/product/materinskaya-p...  \n",
       "13  https://www.citilink.ru/product/materinskaya-p...  \n",
       "14  https://www.citilink.ru/product/materinskaya-p...  \n",
       "15  https://www.citilink.ru/product/materinskaya-p...  \n",
       "16  https://www.citilink.ru/product/materinskaya-p...  \n",
       "17  https://www.citilink.ru/product/materinskaya-p...  \n",
       "18  https://www.citilink.ru/product/materinskaya-p...  \n",
       "19  https://www.citilink.ru/product/materinskaya-p...  "
      ]
     },
<<<<<<< HEAD
     "execution_count": 9,
=======
     "execution_count": 88,
>>>>>>> 8a84c924fcd8e1d92a5d4e4ebe97217ff34c6280
     "metadata": {},
     "output_type": "execute_result"
    }
   ],
   "source": [
    "df_MB.head(20)"
   ]
  },
  {
   "cell_type": "code",
<<<<<<< HEAD
   "execution_count": 10,
=======
   "execution_count": 89,
>>>>>>> 8a84c924fcd8e1d92a5d4e4ebe97217ff34c6280
   "metadata": {},
   "outputs": [
    {
     "ename": "NameError",
     "evalue": "name 'df_cpu' is not defined",
     "output_type": "error",
     "traceback": [
      "\u001b[1;31m---------------------------------------------------------------------------\u001b[0m",
      "\u001b[1;31mNameError\u001b[0m                                 Traceback (most recent call last)",
      "Cell \u001b[1;32mIn[10], line 1\u001b[0m\n\u001b[1;32m----> 1\u001b[0m df_cpu\u001b[39m.\u001b[39mto_csv(\u001b[39m'\u001b[39m\u001b[39mdata/CPU.csv\u001b[39m\u001b[39m'\u001b[39m)\n",
      "\u001b[1;31mNameError\u001b[0m: name 'df_cpu' is not defined"
     ]
    }
   ],
   "source": [
    "df_MB.to_csv('data/MB.csv')"
   ]
  }
 ],
 "metadata": {
  "kernelspec": {
   "display_name": "Python 3",
   "language": "python",
   "name": "python3"
  },
  "language_info": {
   "codemirror_mode": {
    "name": "ipython",
    "version": 3
   },
   "file_extension": ".py",
   "mimetype": "text/x-python",
   "name": "python",
   "nbconvert_exporter": "python",
   "pygments_lexer": "ipython3",
<<<<<<< HEAD
   "version": "3.8.10"
=======
   "version": "3.9.2"
>>>>>>> 8a84c924fcd8e1d92a5d4e4ebe97217ff34c6280
  },
  "orig_nbformat": 4
 },
 "nbformat": 4,
 "nbformat_minor": 2
}
