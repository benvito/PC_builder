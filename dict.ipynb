{
 "cells": [
  {
   "cell_type": "code",
   "execution_count": 18,
   "metadata": {},
   "outputs": [
    {
     "data": {
      "text/plain": [
       "{'id': {'desc': 'unique number', 'dtype': 'int'},\n",
       " 'name': {'desc': \"name of the CPU's\", 'dtype': 'string'},\n",
       " 'cores': {'desc': \"num of CPU's cores\", 'dtype': 'int'},\n",
       " 'threads': {'desc': \"num of CPU's threads\", 'dtype': 'int'},\n",
       " 'base_freq': {'desc': \"base CPU's frequency in MHz\", 'dtype': 'int'},\n",
       " 'turbo_freq': {'desc': \"turbo CPU's frequency in MHz\", 'dtype': 'int'},\n",
       " 'price': {'desc': 'CPU price', 'dtype': 'float'}}"
      ]
     },
     "execution_count": 18,
     "metadata": {},
     "output_type": "execute_result"
    }
   ],
   "source": [
    "import json as js\n",
    "dicti = {}\n",
    "with open(\"columns.json\") as json:\n",
    "    dicti = js.load(json)\n",
    "\n",
    "dicti['cpu']"
   ]
  }
 ],
 "metadata": {
  "kernelspec": {
   "display_name": "Python 3",
   "language": "python",
   "name": "python3"
  },
  "language_info": {
   "codemirror_mode": {
    "name": "ipython",
    "version": 3
   },
   "file_extension": ".py",
   "mimetype": "text/x-python",
   "name": "python",
   "nbconvert_exporter": "python",
   "pygments_lexer": "ipython3",
   "version": "3.9.7"
  },
  "orig_nbformat": 4,
  "vscode": {
   "interpreter": {
    "hash": "11938c6bc6919ae2720b4d5011047913343b08a43b18698fd82dedb0d4417594"
   }
  }
 },
 "nbformat": 4,
 "nbformat_minor": 2
}
